{
 "cells": [
  {
   "cell_type": "code",
   "execution_count": 1,
   "metadata": {},
   "outputs": [],
   "source": [
    "import pandas as pd\n",
    "import numpy as np\n",
    "import matplotlib.pyplot as plt"
   ]
  },
  {
   "cell_type": "code",
   "execution_count": 151,
   "metadata": {},
   "outputs": [],
   "source": [
    "df = pd.DataFrame()\n",
    "df['pekerjaan'] = ['karyawan','wiraswasta','honorer','wiraswasta','honorer','honorer','wiraswasta','wiraswasta','honorer',\n",
    "                   'wiraswasta','karyawan','wiraswasta','honorer','karyawan']\n",
    "df['penghasilan'] = ['3x Angsuran','3x Angsuran','3x Angsuran','3x Angsuran','3x Angsuran','3x Angsuran','3x Angsuran',\n",
    "                     '3x Angsuran','3x Angsuran','3x Angsuran','3x Angsuran','3x Angsuran','3x Angsuran','3x Angsuran']\n",
    "df['sikap'] = ['bermasalah','baik','bermasalah','baik','bermasalah','baik','baik','baik','baik','bermasalah',\n",
    "               'bermasalah','bermasalah','baik','bermasalah']\n",
    "df['kepemilikan'] = ['pribadi','pribadi','kontrak','pribadi','pribadi','kontrak','pribadi','kontrak','pribadi','kontrak'\n",
    "                    ,'kontrak','pribadi','kontrak','kontrak']\n",
    "df['LayakKredit'] = ['layak','layak','layak','layak','layak','layak','layak',\n",
    "                     'layak','layak','tidak','tidak','tidak','layak','tidak']"
   ]
  },
  {
   "cell_type": "code",
   "execution_count": 152,
   "metadata": {},
   "outputs": [
    {
     "data": {
      "text/html": [
       "<div>\n",
       "<style scoped>\n",
       "    .dataframe tbody tr th:only-of-type {\n",
       "        vertical-align: middle;\n",
       "    }\n",
       "\n",
       "    .dataframe tbody tr th {\n",
       "        vertical-align: top;\n",
       "    }\n",
       "\n",
       "    .dataframe thead th {\n",
       "        text-align: right;\n",
       "    }\n",
       "</style>\n",
       "<table border=\"1\" class=\"dataframe\">\n",
       "  <thead>\n",
       "    <tr style=\"text-align: right;\">\n",
       "      <th></th>\n",
       "      <th>pekerjaan</th>\n",
       "      <th>penghasilan</th>\n",
       "      <th>sikap</th>\n",
       "      <th>kepemilikan</th>\n",
       "      <th>LayakKredit</th>\n",
       "    </tr>\n",
       "  </thead>\n",
       "  <tbody>\n",
       "    <tr>\n",
       "      <th>0</th>\n",
       "      <td>karyawan</td>\n",
       "      <td>3x Angsuran</td>\n",
       "      <td>bermasalah</td>\n",
       "      <td>pribadi</td>\n",
       "      <td>layak</td>\n",
       "    </tr>\n",
       "    <tr>\n",
       "      <th>1</th>\n",
       "      <td>wiraswasta</td>\n",
       "      <td>3x Angsuran</td>\n",
       "      <td>baik</td>\n",
       "      <td>pribadi</td>\n",
       "      <td>layak</td>\n",
       "    </tr>\n",
       "    <tr>\n",
       "      <th>2</th>\n",
       "      <td>honorer</td>\n",
       "      <td>3x Angsuran</td>\n",
       "      <td>bermasalah</td>\n",
       "      <td>kontrak</td>\n",
       "      <td>layak</td>\n",
       "    </tr>\n",
       "    <tr>\n",
       "      <th>3</th>\n",
       "      <td>wiraswasta</td>\n",
       "      <td>3x Angsuran</td>\n",
       "      <td>baik</td>\n",
       "      <td>pribadi</td>\n",
       "      <td>layak</td>\n",
       "    </tr>\n",
       "    <tr>\n",
       "      <th>4</th>\n",
       "      <td>honorer</td>\n",
       "      <td>3x Angsuran</td>\n",
       "      <td>bermasalah</td>\n",
       "      <td>pribadi</td>\n",
       "      <td>layak</td>\n",
       "    </tr>\n",
       "    <tr>\n",
       "      <th>5</th>\n",
       "      <td>honorer</td>\n",
       "      <td>3x Angsuran</td>\n",
       "      <td>baik</td>\n",
       "      <td>kontrak</td>\n",
       "      <td>layak</td>\n",
       "    </tr>\n",
       "    <tr>\n",
       "      <th>6</th>\n",
       "      <td>wiraswasta</td>\n",
       "      <td>3x Angsuran</td>\n",
       "      <td>baik</td>\n",
       "      <td>pribadi</td>\n",
       "      <td>layak</td>\n",
       "    </tr>\n",
       "    <tr>\n",
       "      <th>7</th>\n",
       "      <td>wiraswasta</td>\n",
       "      <td>3x Angsuran</td>\n",
       "      <td>baik</td>\n",
       "      <td>kontrak</td>\n",
       "      <td>layak</td>\n",
       "    </tr>\n",
       "    <tr>\n",
       "      <th>8</th>\n",
       "      <td>honorer</td>\n",
       "      <td>3x Angsuran</td>\n",
       "      <td>baik</td>\n",
       "      <td>pribadi</td>\n",
       "      <td>layak</td>\n",
       "    </tr>\n",
       "    <tr>\n",
       "      <th>9</th>\n",
       "      <td>wiraswasta</td>\n",
       "      <td>3x Angsuran</td>\n",
       "      <td>bermasalah</td>\n",
       "      <td>kontrak</td>\n",
       "      <td>tidak</td>\n",
       "    </tr>\n",
       "    <tr>\n",
       "      <th>10</th>\n",
       "      <td>karyawan</td>\n",
       "      <td>3x Angsuran</td>\n",
       "      <td>bermasalah</td>\n",
       "      <td>kontrak</td>\n",
       "      <td>tidak</td>\n",
       "    </tr>\n",
       "    <tr>\n",
       "      <th>11</th>\n",
       "      <td>wiraswasta</td>\n",
       "      <td>3x Angsuran</td>\n",
       "      <td>bermasalah</td>\n",
       "      <td>pribadi</td>\n",
       "      <td>tidak</td>\n",
       "    </tr>\n",
       "    <tr>\n",
       "      <th>12</th>\n",
       "      <td>honorer</td>\n",
       "      <td>3x Angsuran</td>\n",
       "      <td>baik</td>\n",
       "      <td>kontrak</td>\n",
       "      <td>layak</td>\n",
       "    </tr>\n",
       "    <tr>\n",
       "      <th>13</th>\n",
       "      <td>karyawan</td>\n",
       "      <td>3x Angsuran</td>\n",
       "      <td>bermasalah</td>\n",
       "      <td>kontrak</td>\n",
       "      <td>tidak</td>\n",
       "    </tr>\n",
       "  </tbody>\n",
       "</table>\n",
       "</div>"
      ],
      "text/plain": [
       "     pekerjaan  penghasilan       sikap kepemilikan LayakKredit\n",
       "0     karyawan  3x Angsuran  bermasalah     pribadi       layak\n",
       "1   wiraswasta  3x Angsuran        baik     pribadi       layak\n",
       "2      honorer  3x Angsuran  bermasalah     kontrak       layak\n",
       "3   wiraswasta  3x Angsuran        baik     pribadi       layak\n",
       "4      honorer  3x Angsuran  bermasalah     pribadi       layak\n",
       "5      honorer  3x Angsuran        baik     kontrak       layak\n",
       "6   wiraswasta  3x Angsuran        baik     pribadi       layak\n",
       "7   wiraswasta  3x Angsuran        baik     kontrak       layak\n",
       "8      honorer  3x Angsuran        baik     pribadi       layak\n",
       "9   wiraswasta  3x Angsuran  bermasalah     kontrak       tidak\n",
       "10    karyawan  3x Angsuran  bermasalah     kontrak       tidak\n",
       "11  wiraswasta  3x Angsuran  bermasalah     pribadi       tidak\n",
       "12     honorer  3x Angsuran        baik     kontrak       layak\n",
       "13    karyawan  3x Angsuran  bermasalah     kontrak       tidak"
      ]
     },
     "execution_count": 152,
     "metadata": {},
     "output_type": "execute_result"
    }
   ],
   "source": [
    "df"
   ]
  },
  {
   "cell_type": "code",
   "execution_count": 153,
   "metadata": {},
   "outputs": [
    {
     "name": "stdout",
     "output_type": "stream",
     "text": [
      "H(S) = 0.8631\n"
     ]
    }
   ],
   "source": [
    "p_p = len(df.loc[df.LayakKredit == 'layak']) / len(df)\n",
    "p_n = len(df.loc[df.LayakKredit == 'tidak']) / len(df)\n",
    "\n",
    "entropy_LayakKredit = -p_n * np.log2(p_n) - p_p * np.log2(p_p)\n",
    "print(f'H(S) = {entropy_LayakKredit:0.4f}')"
   ]
  },
  {
   "cell_type": "code",
   "execution_count": 154,
   "metadata": {},
   "outputs": [],
   "source": [
    "def f_entropy_LayakKredit(data):\n",
    "    p_p = len(data.loc[data.LayakKredit == 'layak']) / len(data)\n",
    "    p_n = len(data.loc[data.LayakKredit == 'tidak']) / len(data)\n",
    "    return -p_n * np.log2(p_n) - p_p * np.log2(p_p)"
   ]
  },
  {
   "cell_type": "code",
   "execution_count": 173,
   "metadata": {},
   "outputs": [
    {
     "name": "stdout",
     "output_type": "stream",
     "text": [
      "p(LayakKredit=layak|Sikap = baik) = 7/7\n",
      "p(LayakKredit=tifak|Sikap = baik) = 0/7\n",
      "p(pekerjaan = baik) = 7/14\n",
      "Entropy(LayakKredit|Sikap = baik) =-7/7.log2(7/7) - 0/7.log2(0/7)\n",
      "\n",
      "p(LayakKredit=layak|Sikap = bermasalah) = 3/7\n",
      "p(LayakKredit=tifak|Sikap = bermasalah) = 4/7\n",
      "p(pekerjaan = bermasalah) = 7/14\n",
      "Entropy(LayakKredit|Sikap = bermasalah) =-3/7.log2(3/7) - 4/7.log2(4/7)\n",
      "\n",
      "Gain(LayakKredit, sikap) = Entropy(LayakKredit)- p(Sikap=baik).Endtropy(Layak Kredit|Sikap=baik)- p(Sikap=bermasalah).Endtropy(Layak Kredit|Sikap=bermasalah)\n",
      "Gain(Layak Kredit, Sikap) =  0.4257\n"
     ]
    }
   ],
   "source": [
    "IG_LayakKredit_Sikap = entropy_LayakKredit \n",
    "overall_eqn = 'Gain(LayakKredit, sikap) = Entropy(LayakKredit)'\n",
    "\n",
    "for name, Sikap in df.groupby('sikap'):\n",
    "    num_layak = len(Sikap.loc[Sikap.LayakKredit == 'layak'])\n",
    "    num_tidak = len(Sikap.loc[Sikap.LayakKredit != 'layak'])\n",
    "    num_Sikap = len(Sikap)\n",
    "    print(f'p(LayakKredit=layak|Sikap = {name}) = {num_layak}/{num_Sikap}')\n",
    "    print(f'p(LayakKredit=tifak|Sikap = {name}) = {num_tidak}/{num_Sikap}')\n",
    "    print(f'p(pekerjaan = {name}) = {num_Sikap}/{len(df)}')\n",
    "    print(f'Entropy(LayakKredit|Sikap = {name}) ='\\\n",
    "          f'-{num_layak}/{num_Sikap}.log2({num_layak}/{num_Sikap}) - '\\\n",
    "          f'{num_tidak}/{num_Sikap}.log2({num_tidak}/{num_Sikap})')\n",
    "    \n",
    "    entropy_LayakKredit_Sikap = 0\n",
    "    \n",
    "    if num_layak != 0:\n",
    "        entropy_LayakKredit_Sikap -= (num_layak / num_Sikap)\\\n",
    "            *np.log2(num_layak / num_Sikap)\n",
    "    \n",
    "    if num_tidak != 0:\n",
    "        entropy_LayakKredit_Sikap -= (num_tidak / num_Sikap) \\\n",
    "            * np.log2(num_tidak / num_Sikap)\n",
    "        \n",
    "    IG_LayakKredit_Sikap -= (num_Sikap / len(df)) * entropy_LayakKredit_Sikap\n",
    "    print()\n",
    "    overall_eqn += f'- p(Sikap={name}).'\n",
    "    overall_eqn += f'Endtropy(Layak Kredit|Sikap={name})'\n",
    "print(overall_eqn)\n",
    "print(f'Gain(Layak Kredit, Sikap) = {IG_LayakKredit_Sikap: 0.4f}')"
   ]
  },
  {
   "cell_type": "code",
   "execution_count": 156,
   "metadata": {},
   "outputs": [],
   "source": [
    "def IG(data, column, ent_LayakKredit = entropy_LayakKredit):\n",
    "    IG_LayakKredit = ent_LayakKredit\n",
    "    for name, temp in data.groupby(column):\n",
    "        p_p = len(temp.loc[temp.LayakKredit == 'layak']) / len(temp)\n",
    "        p_n = len(temp.loc[temp.LayakKredit != 'layak']) / len(temp)\n",
    "        \n",
    "        entropy_LayakKredit = 0\n",
    "        \n",
    "        if p_p != 0:\n",
    "            entropy_LayakKredit -= (p_p) * np.log2(p_p)\n",
    "        \n",
    "        if p_n != 0:\n",
    "            entropy_LayakKredit -= (p_n) * np.log2(p_n)\n",
    "        \n",
    "        IG_LayakKredit -= (len(temp) / len(df)) * entropy_LayakKredit\n",
    "    return IG_LayakKredit"
   ]
  },
  {
   "cell_type": "code",
   "execution_count": 157,
   "metadata": {},
   "outputs": [
    {
     "name": "stdout",
     "output_type": "stream",
     "text": [
      "Gain(LayakKredit, pekerjaan) = 0.2728\n",
      "Gain(LayakKredit, penghasilan) = 0.0000\n",
      "Gain(LayakKredit, sikap) = 0.3705\n",
      "Gain(LayakKredit, kepemilikan) = 0.0747\n"
     ]
    }
   ],
   "source": [
    "for col in df.columns[:-1]:\n",
    "    print(f'Gain(LayakKredit, {col}) = {IG(df, col):0.4f}')"
   ]
  },
  {
   "cell_type": "code",
   "execution_count": 181,
   "metadata": {},
   "outputs": [
    {
     "name": "stdout",
     "output_type": "stream",
     "text": [
      "--------------------------------------------------\n",
      "baik\n",
      "--------------------------------------------------\n",
      "     pekerjaan  penghasilan sikap kepemilikan LayakKredit\n",
      "1   wiraswasta  3x Angsuran  baik     pribadi       layak\n",
      "3   wiraswasta  3x Angsuran  baik     pribadi       layak\n",
      "5      honorer  3x Angsuran  baik     kontrak       layak\n",
      "6   wiraswasta  3x Angsuran  baik     pribadi       layak\n",
      "7   wiraswasta  3x Angsuran  baik     kontrak       layak\n",
      "8      honorer  3x Angsuran  baik     pribadi       layak\n",
      "12     honorer  3x Angsuran  baik     kontrak       layak\n",
      "--------------------------------------------------\n",
      "--------------------------------------------------\n",
      "bermasalah\n",
      "--------------------------------------------------\n",
      "     pekerjaan  penghasilan       sikap kepemilikan LayakKredit\n",
      "0     karyawan  3x Angsuran  bermasalah     pribadi       layak\n",
      "2      honorer  3x Angsuran  bermasalah     kontrak       layak\n",
      "4      honorer  3x Angsuran  bermasalah     pribadi       layak\n",
      "9   wiraswasta  3x Angsuran  bermasalah     kontrak       tidak\n",
      "10    karyawan  3x Angsuran  bermasalah     kontrak       tidak\n",
      "11  wiraswasta  3x Angsuran  bermasalah     pribadi       tidak\n",
      "13    karyawan  3x Angsuran  bermasalah     kontrak       tidak\n",
      "--------------------------------------------------\n"
     ]
    }
   ],
   "source": [
    "for name, temp in df.groupby('sikap'):\n",
    "    print('-'*50)\n",
    "    print(name)\n",
    "    print('-' *50)\n",
    "    print(temp)\n",
    "    print('-' *50)"
   ]
  },
  {
   "cell_type": "code",
   "execution_count": 159,
   "metadata": {},
   "outputs": [
    {
     "data": {
      "text/html": [
       "<div>\n",
       "<style scoped>\n",
       "    .dataframe tbody tr th:only-of-type {\n",
       "        vertical-align: middle;\n",
       "    }\n",
       "\n",
       "    .dataframe tbody tr th {\n",
       "        vertical-align: top;\n",
       "    }\n",
       "\n",
       "    .dataframe thead th {\n",
       "        text-align: right;\n",
       "    }\n",
       "</style>\n",
       "<table border=\"1\" class=\"dataframe\">\n",
       "  <thead>\n",
       "    <tr style=\"text-align: right;\">\n",
       "      <th></th>\n",
       "      <th>pekerjaan</th>\n",
       "      <th>penghasilan</th>\n",
       "      <th>sikap</th>\n",
       "      <th>kepemilikan</th>\n",
       "      <th>LayakKredit</th>\n",
       "    </tr>\n",
       "  </thead>\n",
       "  <tbody>\n",
       "    <tr>\n",
       "      <th>0</th>\n",
       "      <td>karyawan</td>\n",
       "      <td>3x Angsuran</td>\n",
       "      <td>bermasalah</td>\n",
       "      <td>pribadi</td>\n",
       "      <td>layak</td>\n",
       "    </tr>\n",
       "    <tr>\n",
       "      <th>2</th>\n",
       "      <td>honorer</td>\n",
       "      <td>3x Angsuran</td>\n",
       "      <td>bermasalah</td>\n",
       "      <td>kontrak</td>\n",
       "      <td>layak</td>\n",
       "    </tr>\n",
       "    <tr>\n",
       "      <th>4</th>\n",
       "      <td>honorer</td>\n",
       "      <td>3x Angsuran</td>\n",
       "      <td>bermasalah</td>\n",
       "      <td>pribadi</td>\n",
       "      <td>layak</td>\n",
       "    </tr>\n",
       "    <tr>\n",
       "      <th>9</th>\n",
       "      <td>wiraswasta</td>\n",
       "      <td>3x Angsuran</td>\n",
       "      <td>bermasalah</td>\n",
       "      <td>kontrak</td>\n",
       "      <td>tidak</td>\n",
       "    </tr>\n",
       "    <tr>\n",
       "      <th>10</th>\n",
       "      <td>karyawan</td>\n",
       "      <td>3x Angsuran</td>\n",
       "      <td>bermasalah</td>\n",
       "      <td>kontrak</td>\n",
       "      <td>tidak</td>\n",
       "    </tr>\n",
       "    <tr>\n",
       "      <th>11</th>\n",
       "      <td>wiraswasta</td>\n",
       "      <td>3x Angsuran</td>\n",
       "      <td>bermasalah</td>\n",
       "      <td>pribadi</td>\n",
       "      <td>tidak</td>\n",
       "    </tr>\n",
       "    <tr>\n",
       "      <th>13</th>\n",
       "      <td>karyawan</td>\n",
       "      <td>3x Angsuran</td>\n",
       "      <td>bermasalah</td>\n",
       "      <td>kontrak</td>\n",
       "      <td>tidak</td>\n",
       "    </tr>\n",
       "  </tbody>\n",
       "</table>\n",
       "</div>"
      ],
      "text/plain": [
       "     pekerjaan  penghasilan       sikap kepemilikan LayakKredit\n",
       "0     karyawan  3x Angsuran  bermasalah     pribadi       layak\n",
       "2      honorer  3x Angsuran  bermasalah     kontrak       layak\n",
       "4      honorer  3x Angsuran  bermasalah     pribadi       layak\n",
       "9   wiraswasta  3x Angsuran  bermasalah     kontrak       tidak\n",
       "10    karyawan  3x Angsuran  bermasalah     kontrak       tidak\n",
       "11  wiraswasta  3x Angsuran  bermasalah     pribadi       tidak\n",
       "13    karyawan  3x Angsuran  bermasalah     kontrak       tidak"
      ]
     },
     "execution_count": 159,
     "metadata": {},
     "output_type": "execute_result"
    }
   ],
   "source": [
    "df_next = df.loc[df.sikap != 'baik']\n",
    "df_next"
   ]
  },
  {
   "cell_type": "code",
   "execution_count": 160,
   "metadata": {},
   "outputs": [
    {
     "data": {
      "text/plain": [
       "0.9852281360342515"
      ]
     },
     "execution_count": 160,
     "metadata": {},
     "output_type": "execute_result"
    }
   ],
   "source": [
    "df_karyawan = df_next.loc[df_next.sikap == 'bermasalah']\n",
    "entropy_LayakKredit = f_entropy_LayakKredit(df_karyawan)\n",
    "entropy_LayakKredit"
   ]
  },
  {
   "cell_type": "code",
   "execution_count": 161,
   "metadata": {},
   "outputs": [
    {
     "name": "stdout",
     "output_type": "stream",
     "text": [
      "(Gain)Layak Kredit, pekerjaan = 0.7885\n",
      "(Gain)Layak Kredit, penghasilan = 0.4926\n",
      "(Gain)Layak Kredit, sikap = 0.4926\n",
      "(Gain)Layak Kredit, kepemilikan = 0.5567\n"
     ]
    }
   ],
   "source": [
    "for col in df_karyawan.columns[:-1]:\n",
    "    print(f'(Gain)Layak Kredit, {col} = {IG(df_karyawan, col, entropy_LayakKredit):0.4f}')"
   ]
  },
  {
   "cell_type": "code",
   "execution_count": 186,
   "metadata": {},
   "outputs": [
    {
     "name": "stdout",
     "output_type": "stream",
     "text": [
      "------------------------------------------------------------\n",
      "honorer\n",
      "------------------------------------------------------------\n",
      "  pekerjaan  penghasilan       sikap kepemilikan LayakKredit\n",
      "2   honorer  3x Angsuran  bermasalah     kontrak       layak\n",
      "4   honorer  3x Angsuran  bermasalah     pribadi       layak\n",
      "------------------------------------------------------------\n",
      "------------------------------------------------------------\n",
      "karyawan\n",
      "------------------------------------------------------------\n",
      "   pekerjaan  penghasilan       sikap kepemilikan LayakKredit\n",
      "0   karyawan  3x Angsuran  bermasalah     pribadi       layak\n",
      "10  karyawan  3x Angsuran  bermasalah     kontrak       tidak\n",
      "13  karyawan  3x Angsuran  bermasalah     kontrak       tidak\n",
      "------------------------------------------------------------\n",
      "------------------------------------------------------------\n",
      "wiraswasta\n",
      "------------------------------------------------------------\n",
      "     pekerjaan  penghasilan       sikap kepemilikan LayakKredit\n",
      "9   wiraswasta  3x Angsuran  bermasalah     kontrak       tidak\n",
      "11  wiraswasta  3x Angsuran  bermasalah     pribadi       tidak\n",
      "------------------------------------------------------------\n"
     ]
    }
   ],
   "source": [
    "for name, temp in df_karyawan.groupby('pekerjaan'):\n",
    "    print('-'*60)\n",
    "    print(name)\n",
    "    print('-'*60)\n",
    "    print(temp)\n",
    "    print('-'*60)"
   ]
  },
  {
   "cell_type": "code",
   "execution_count": 163,
   "metadata": {},
   "outputs": [
    {
     "data": {
      "text/plain": [
       "0.9182958340544896"
      ]
     },
     "execution_count": 163,
     "metadata": {},
     "output_type": "execute_result"
    }
   ],
   "source": [
    "df_pekerjaan = df_next.loc[df_next.pekerjaan == 'karyawan']\n",
    "entropy_LayakKredit = f_entropy_LayakKredit(df_pekerjaan)\n",
    "entropy_LayakKredit"
   ]
  },
  {
   "cell_type": "code",
   "execution_count": 164,
   "metadata": {},
   "outputs": [
    {
     "name": "stdout",
     "output_type": "stream",
     "text": [
      "(Gain)Layak Kredit, pekerjaan = 0.7215\n",
      "(Gain)Layak Kredit, penghasilan = 0.7215\n",
      "(Gain)Layak Kredit, sikap = 0.7215\n",
      "(Gain)Layak Kredit, kepemilikan = 0.9183\n"
     ]
    }
   ],
   "source": [
    "for col in df_pekerjaan.columns[:-1]:\n",
    "    print(f'(Gain)Layak Kredit, {col} = {IG(df_pekerjaan, col, entropy_LayakKredit):0.4f}')"
   ]
  },
  {
   "cell_type": "code",
   "execution_count": 187,
   "metadata": {},
   "outputs": [
    {
     "name": "stdout",
     "output_type": "stream",
     "text": [
      "------------------------------------------------------------\n",
      "kontrak\n",
      "------------------------------------------------------------\n",
      "   pekerjaan  penghasilan       sikap kepemilikan LayakKredit\n",
      "10  karyawan  3x Angsuran  bermasalah     kontrak       tidak\n",
      "13  karyawan  3x Angsuran  bermasalah     kontrak       tidak\n",
      "------------------------------------------------------------\n",
      "------------------------------------------------------------\n",
      "pribadi\n",
      "------------------------------------------------------------\n",
      "  pekerjaan  penghasilan       sikap kepemilikan LayakKredit\n",
      "0  karyawan  3x Angsuran  bermasalah     pribadi       layak\n",
      "------------------------------------------------------------\n"
     ]
    }
   ],
   "source": [
    "for name, temp in df_pekerjaan.groupby('kepemilikan'):\n",
    "    print('-'*60)\n",
    "    print(name)\n",
    "    print('-'*60)\n",
    "    print(temp)\n",
    "    print('-'*60)"
   ]
  }
 ],
 "metadata": {
  "kernelspec": {
   "display_name": "Python 3",
   "language": "python",
   "name": "python3"
  },
  "language_info": {
   "codemirror_mode": {
    "name": "ipython",
    "version": 3
   },
   "file_extension": ".py",
   "mimetype": "text/x-python",
   "name": "python",
   "nbconvert_exporter": "python",
   "pygments_lexer": "ipython3",
   "version": "3.7.5"
  }
 },
 "nbformat": 4,
 "nbformat_minor": 2
}
